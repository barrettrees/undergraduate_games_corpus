{
 "cells": [
  {
   "cell_type": "markdown",
   "metadata": {},
   "source": [
    "This example notebook shows how to load the [Undergraduate Games Corpus](https://github.com/barrettrees/undergraduate_games_corpus) and inspect the contents of one of the games that it references."
   ]
  },
  {
   "cell_type": "markdown",
   "metadata": {},
   "source": [
    "# Loading the corpus metadata\n",
    "\n",
    "We provide all metadata in a single [JSON](https://www.json.org/) file, so loading it is straight forward:"
   ]
  },
  {
   "cell_type": "code",
   "execution_count": null,
   "metadata": {},
   "outputs": [],
   "source": [
    "import json\n",
    "\n",
    "with open(\"corpus.json\") as f:\n",
    "    corpus = json.load(f)\n",
    "    \n",
    "print(len(corpus), 'games total')"
   ]
  },
  {
   "cell_type": "markdown",
   "metadata": {},
   "source": [
    "# Inspecting a single game\n",
    "\n",
    "The `corpus` object maps [archival resource keys (ARKs)](https://en.wikipedia.org/wiki/Archival_Resource_Key) to game metadata objects. Let's look at the entry for the first game that happens to be built on [Twine](https://twinery.org/)."
   ]
  },
  {
   "cell_type": "code",
   "execution_count": null,
   "metadata": {},
   "outputs": [],
   "source": [
    "for ark, game in corpus.items():\n",
    "    if game['engine'] == 'Twine':\n",
    "        break\n",
    "        \n",
    "ark, game"
   ]
  },
  {
   "cell_type": "markdown",
   "metadata": {},
   "source": [
    "# Downloading and interpreting game project source files\n",
    "\n",
    "Twine games are usually composed of just a single HTML files. Let's download that first file mentioned in the entry seen above."
   ]
  },
  {
   "cell_type": "code",
   "execution_count": null,
   "metadata": {},
   "outputs": [],
   "source": [
    "import urllib.request\n",
    "url = game['files'][0]['downloadLink']\n",
    "with urllib.request.urlopen(url) as u:\n",
    "    source = u.read()\n",
    "    \n",
    "print(source[:1024])\n",
    "len(source), type(source)"
   ]
  },
  {
   "cell_type": "markdown",
   "metadata": {},
   "source": [
    "## Parsing a Twine game to recover passage text and other data\n",
    "\n",
    "We'll use the [BeautifulSoup](https://www.crummy.com/software/BeautifulSoup/) library to parse this HTML file and recover the Twine-specific tags."
   ]
  },
  {
   "cell_type": "code",
   "execution_count": null,
   "metadata": {},
   "outputs": [],
   "source": [
    "!pip install --quiet bs4"
   ]
  },
  {
   "cell_type": "code",
   "execution_count": null,
   "metadata": {
    "scrolled": false
   },
   "outputs": [],
   "source": [
    "import bs4\n",
    "\n",
    "soup = bs4.BeautifulSoup(source)\n",
    "\n",
    "{\n",
    "    'meta': soup.find('tw-storydata').attrs,\n",
    "    'contents': list( {\n",
    "        'meta': passagedata.attrs,\n",
    "        'contents': ''.join(passagedata.contents)\n",
    "    } for passagedata in soup.find_all('tw-passagedata'))\n",
    "}"
   ]
  }
 ],
 "metadata": {
  "kernelspec": {
   "display_name": "Python 3 (ipykernel)",
   "language": "python",
   "name": "python3"
  },
  "language_info": {
   "codemirror_mode": {
    "name": "ipython",
    "version": 3
   },
   "file_extension": ".py",
   "mimetype": "text/x-python",
   "name": "python",
   "nbconvert_exporter": "python",
   "pygments_lexer": "ipython3",
   "version": "3.7.10"
  }
 },
 "nbformat": 4,
 "nbformat_minor": 4
}
