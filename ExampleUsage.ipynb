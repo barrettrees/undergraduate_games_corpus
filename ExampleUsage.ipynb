{
 "cells": [
  {
   "cell_type": "markdown",
   "metadata": {},
   "source": [
    "This example notebook shows how to load the [Undergraduate Games Corpus](https://github.com/barrettrees/undergraduate_games_corpus) and inspect the contents of one of the games that it references."
   ]
  },
  {
   "cell_type": "markdown",
   "metadata": {},
   "source": [
    "# Loading the corpus metadata\n",
    "\n",
    "We provide all metadata in a single [JSON](https://www.json.org/) file, so loading it is straight forward:"
   ]
  },
  {
   "cell_type": "code",
   "execution_count": 1,
   "metadata": {},
   "outputs": [
    {
     "name": "stdout",
     "output_type": "stream",
     "text": [
      "110 games total\n"
     ]
    }
   ],
   "source": [
    "import json\n",
    "\n",
    "with open(\"corpus.json\") as f:\n",
    "    corpus = json.load(f)\n",
    "    \n",
    "print(len(corpus), 'games total')"
   ]
  },
  {
   "cell_type": "markdown",
   "metadata": {},
   "source": [
    "# Inspecting a single game\n",
    "\n",
    "The `corpus` object maps [archival resource keys (ARKs)](https://en.wikipedia.org/wiki/Archival_Resource_Key) to game metadata objects. Let's look at the entry for the first game that happens to be built on [Twine](https://twinery.org/)."
   ]
  },
  {
   "cell_type": "code",
   "execution_count": 2,
   "metadata": {},
   "outputs": [
    {
     "data": {
      "text/plain": [
       "('ark:/13030/qt07t8r6b5',\n",
       " {'permalink': 'https://escholarship.org/uc/item/07t8r6b5',\n",
       "  'title': '',\n",
       "  'description': '',\n",
       "  'authors': [{'firstname': 'Bryden', 'lastname': 'Fong'}],\n",
       "  'engine': 'Twine',\n",
       "  'tags': [''],\n",
       "  'license': 'Default Copyright',\n",
       "  'year': '2019',\n",
       "  'quarter': 'Summer 2019',\n",
       "  'files': [{'downloadLink': 'http://escholarship.org/content/qt07t8r6b5/supp/fongbryden_33223_1440184_Twine_game_alpha__1_.html',\n",
       "    'contentType': 'text/html'}]})"
      ]
     },
     "execution_count": 2,
     "metadata": {},
     "output_type": "execute_result"
    }
   ],
   "source": [
    "for ark, game in corpus.items():\n",
    "    if game['engine'] == 'Twine':\n",
    "        break\n",
    "        \n",
    "ark, game"
   ]
  },
  {
   "cell_type": "markdown",
   "metadata": {},
   "source": [
    "# Downloading and interpreting game project source files\n",
    "\n",
    "Twine games are usually composed of just a single HTML files. Let's download that first file mentioned in the entry seen above."
   ]
  },
  {
   "cell_type": "code",
   "execution_count": 3,
   "metadata": {},
   "outputs": [
    {
     "name": "stdout",
     "output_type": "stream",
     "text": [
      "b'<!DOCTYPE html>\\n<html>\\n<head>\\n<meta charset=\"utf-8\">\\n<title>Twine game alpha</title>\\n<style title=\"Twine CSS\">@-webkit-keyframes appear{0%{opacity:0}to{opacity:1}}@keyframes appear{0%{opacity:0}to{opacity:1}}@-webkit-keyframes fade-in-out{0%,to{opacity:0}50%{opacity:1}}@keyframes fade-in-out{0%,to{opacity:0}50%{opacity:1}}@-webkit-keyframes rumble{50%{-webkit-transform:translateY(-0.2em);transform:translateY(-0.2em)}}@keyframes rumble{50%{-webkit-transform:translateY(-0.2em);transform:translateY(-0.2em)}}@-webkit-keyframes shudder{50%{-webkit-transform:translateX(0.2em);transform:translateX(0.2em)}}@keyframes shudder{50%{-webkit-transform:translateX(0.2em);transform:translateX(0.2em)}}@-webkit-keyframes box-flash{0%{background-color:white;color:white}}@keyframes box-flash{0%{background-color:white;color:white}}@-webkit-keyframes pulse{0%{-webkit-transform:scale(0, 0);transform:scale(0, 0)}20%{-webkit-transform:scale(1.2, 1.2);transform:scale(1.2, 1.2)}40%{-webkit-transform:scale(0.9, 0.9);transform:scale(0.9,'\n"
     ]
    },
    {
     "data": {
      "text/plain": [
       "(304816, bytes)"
      ]
     },
     "execution_count": 3,
     "metadata": {},
     "output_type": "execute_result"
    }
   ],
   "source": [
    "import urllib.request\n",
    "url = game['files'][0]['downloadLink']\n",
    "with urllib.request.urlopen(url) as u:\n",
    "    source = u.read()\n",
    "    \n",
    "print(source[:1024])\n",
    "len(source), type(source)"
   ]
  },
  {
   "cell_type": "markdown",
   "metadata": {},
   "source": [
    "## Parsing a Twine game to recover passage text and other data\n",
    "\n",
    "We'll use the [BeautifulSoup](https://www.crummy.com/software/BeautifulSoup/) library to parse this HTML file and recover the Twine-specific tags."
   ]
  },
  {
   "cell_type": "code",
   "execution_count": 4,
   "metadata": {},
   "outputs": [],
   "source": [
    "!pip install --quiet bs4"
   ]
  },
  {
   "cell_type": "code",
   "execution_count": 5,
   "metadata": {
    "scrolled": false
   },
   "outputs": [
    {
     "data": {
      "text/plain": [
       "{'meta': {'name': 'Twine game alpha',\n",
       "  'startnode': '1',\n",
       "  'creator': 'Twine',\n",
       "  'creator-version': '2.3.2',\n",
       "  'ifid': '8ABC195F-D38B-4B8D-90D3-EEB71E7DA3B0',\n",
       "  'zoom': '1',\n",
       "  'format': 'Harlowe',\n",
       "  'format-version': '3.0.2',\n",
       "  'options': '',\n",
       "  'hidden': ''},\n",
       " 'contents': [{'meta': {'pid': '1',\n",
       "    'name': 'Continue',\n",
       "    'tags': '',\n",
       "    'position': '300,0',\n",
       "    'size': '100,100'},\n",
       "   'contents': 'You wake up in an unfamiliar setting, but it seems to be in a high place because it seems frightingly hard to breath compared to home. \\nThere is nobody around.\\nThere is a strange mist surrounding you that makes it hard to see clearly.\\nYour only goal is to find your way back to civilization. \\n[[Continue->Explore]] \\n(set: $water = 0)\\n(set: $bag = 0)'},\n",
       "  {'meta': {'pid': '2',\n",
       "    'name': 'Search',\n",
       "    'tags': '',\n",
       "    'position': '800,100',\n",
       "    'size': '100,100'},\n",
       "   'contents': 'You see a bag laying on the ground next to you. \\n[[Search->Items]] the bag?\\n[[Explore]] around the area. \\n(set: $bag = 1)'},\n",
       "  {'meta': {'pid': '3',\n",
       "    'name': 'Items',\n",
       "    'tags': '',\n",
       "    'position': '975,175',\n",
       "    'size': '100,100'},\n",
       "   'contents': 'You look into the bag and find water, a flashlight and other miscellaneous  gear.Remembering Do you want to [[drink]] water or use the flashlight to [[look]] at the surrounding area? '},\n",
       "  {'meta': {'pid': '4',\n",
       "    'name': 'Explore',\n",
       "    'tags': '',\n",
       "    'position': '575,25',\n",
       "    'size': '100,100'},\n",
       "   'contents': 'You decide to roam around the area to find out where you have been transported. \\nThe haze is gathering and you cannot see more than 5 feet in front of you. It seems strange as if the haze was alive\\nDo you [[Continue exploring]] or [[go back]]?\\n'},\n",
       "  {'meta': {'pid': '5',\n",
       "    'name': 'drink',\n",
       "    'tags': '',\n",
       "    'position': '1050,300',\n",
       "    'size': '100,100'},\n",
       "   'contents': 'You drank the water.\\n[[back|Items]]\\n(set: $water = 1)'},\n",
       "  {'meta': {'pid': '6',\n",
       "    'name': 'look',\n",
       "    'tags': '',\n",
       "    'position': '775,300',\n",
       "    'size': '100,100'},\n",
       "   'contents': 'Now that you have searched the bag, you wonder if the flashlight would be of any use.\\nUse the [[flashlight]]?\\nContinue with [[no flashlight]]?'},\n",
       "  {'meta': {'pid': '7',\n",
       "    'name': 'Continue exploring',\n",
       "    'tags': '',\n",
       "    'position': '400,125',\n",
       "    'size': '100,100'},\n",
       "   'contents': 'You [[Continue exploring -> cliff]] but there is a thick haze surrounding you that definitely seems to have a sinister feeling to it. However, it is not to late to [[go back]] to where you started. You also find a bag. Do you [[Search]] it?\\n'},\n",
       "  {'meta': {'pid': '8',\n",
       "    'name': 'return',\n",
       "    'tags': '',\n",
       "    'position': '325,475',\n",
       "    'size': '100,100'},\n",
       "   'contents': 'You attempt to return to where you started but the haze is not making the process any easier. While backtracking, you discover that there is also a wall adjacent to the cliff face that extends above into the haze. \\n\\nYou [[continue forward]] '},\n",
       "  {'meta': {'pid': '9',\n",
       "    'name': 'roaming',\n",
       "    'tags': '',\n",
       "    'position': '75,475',\n",
       "    'size': '100,100'},\n",
       "   'contents': 'You search the cliff face in an effort to find a possible path that leads down the cliff face. Suddenly, the edge gives way and you find yourself falling through the air. Luckily you were[[snagged]] by a tree branch that was protruding out of the cliff face.'},\n",
       "  {'meta': {'pid': '10',\n",
       "    'name': 'go back',\n",
       "    'tags': '',\n",
       "    'position': '475,300',\n",
       "    'size': '100,100'},\n",
       "   'contents': 'You try to go back to where you were before but the haze is making it quite difficult.\\n Do you contine to [[go back -> cliff]] or do you want to [[Search]] the bag that you have?'},\n",
       "  {'meta': {'pid': '11',\n",
       "    'name': ' cliff',\n",
       "    'tags': '',\n",
       "    'position': '200,375',\n",
       "    'size': '100,100'},\n",
       "   'contents': 'While out exploring, you reach a cliff area. You almost fall into the abyss because you could not see clearly with the haze in the way. Luckily you stopped and caught yourself before you went over the edge of the cliff. Would you like to [[return]] to where you were earlier?\\nWould you like to continue [[roaming]] around the cliff face to look for a way down? '},\n",
       "  {'meta': {'pid': '12',\n",
       "    'name': 'flashlight',\n",
       "    'tags': '',\n",
       "    'position': '675,425',\n",
       "    'size': '100,100'},\n",
       "   'contents': 'The flashlight seems to have some strange magic function that blows away reveals what is hidden in the mist. You continue to [[travel]].\\n(set: $flashlight = 0)'},\n",
       "  {'meta': {'pid': '13',\n",
       "    'name': 'no flashlight',\n",
       "    'tags': '',\n",
       "    'position': '900,425',\n",
       "    'size': '100,100'},\n",
       "   'contents': 'You continue to [[travel]] along but it is very hard without the flashlight. It seems that the [[haze]] is only getting thicker and thicker. \\n(set: $flashlight = 1)'},\n",
       "  {'meta': {'pid': '14',\n",
       "    'name': 'travel',\n",
       "    'tags': '',\n",
       "    'position': '775,575',\n",
       "    'size': '100,100'},\n",
       "   'contents': 'You then look at your surroundings you see a [[cave]] somewhere off to the right. Upon further instruction, you also see a [[bridge]], but you cannot see the other side because the haze is still thick. \\nThe haze is thick(mouseover-replace:\"The haze is thick\")[(if: $flashlight <1)[[secret passage|Secret Passage]]]\\n(set: $passage = 0)'},\n",
       "  {'meta': {'pid': '15',\n",
       "    'name': 'snagged',\n",
       "    'tags': '',\n",
       "    'position': '75,625',\n",
       "    'size': '100,100'},\n",
       "   'contents': \"You can't help but notice you are now [[stuck]] on a tree branch with little hope of making it out alive. \\nThe tree branch creaks and groans under your weight and loose rubble tumbles down. You realize that you do not have much time to act.\\nYou[[shift your weight]] in an attempt to save yourself.\"},\n",
       "  {'meta': {'pid': '16',\n",
       "    'name': 'stuck',\n",
       "    'tags': '',\n",
       "    'position': '75,750',\n",
       "    'size': '100,100'},\n",
       "   'contents': 'As you look at the surroundings of the [[branch]], you notice that there is a ledge to the right that seems to be more stable than the tree branch.'},\n",
       "  {'meta': {'pid': '17',\n",
       "    'name': 'branch',\n",
       "    'tags': '',\n",
       "    'position': '300,850',\n",
       "    'size': '100,100'},\n",
       "   'contents': 'The branch is groaning and creaking under your weight. You must [[act]] fast.\\n(if: $bag >0)[Luckily you noticed that there was a rope in your bag and you rope back to safety. Once you are on solid ground again, you see a [[cave]] that leads into the cliff face]'},\n",
       "  {'meta': {'pid': '18',\n",
       "    'name': 'Portal',\n",
       "    'tags': '',\n",
       "    'position': '725,1225',\n",
       "    'size': '100,100'},\n",
       "   'contents': 'You take the leap of faith and dissapear through the portal. For the longest time you are surrounded by warmth and comfort. A few moments later, you wake up in your bed with your warm cat by your side and realize that it was all a dream.'},\n",
       "  {'meta': {'pid': '19',\n",
       "    'name': 'shift your weight',\n",
       "    'tags': '',\n",
       "    'position': '175,950',\n",
       "    'size': '100,100'},\n",
       "   'contents': 'While shifting your weight to a new position, the tree branch becomes detached from the cliff face. You fall and plunge into the hazy and dark abyss below.'},\n",
       "  {'meta': {'pid': '20',\n",
       "    'name': 'Secret Passage',\n",
       "    'tags': '',\n",
       "    'position': '775,850',\n",
       "    'size': '100,100'},\n",
       "   'contents': 'While shining your flashlight around you notice that the haze dissapears around a certain formation that is near a deep chasm. You interact with the formation and a [[Portal]] materializes out of thin air a few feet below the edge of the cliff. Do you take the leap of faith? Do you [[back|cave]] to search the cave or [[back|bridge]] to the bridge instead?\\n(set: $passage = 1)'},\n",
       "  {'meta': {'pid': '21',\n",
       "    'name': 'cave',\n",
       "    'tags': '',\n",
       "    'position': '700,725',\n",
       "    'size': '100,100'},\n",
       "   'contents': '(if: $passage<1)[You venture into the cave. There are numerous markings inside the cave, presumably from different languages. However, this is the first time that you have seen that someone has been here before.]\\n(if: $passage>0)[An earthquake occurs and the entrance to the cave is blocked off by a huge boulder. You die of starvation.]'},\n",
       "  {'meta': {'pid': '22',\n",
       "    'name': 'bridge',\n",
       "    'tags': '',\n",
       "    'position': '850,725',\n",
       "    'size': '100,100'},\n",
       "   'contents': '(if: $passage < 1)[The bridge seems to go on endlessly as far as the eye can see. The [[bridge|bridge]] seems to be an infinite loop back to where you were.]\\n(if: $passage > 0)[The ropes holding up the bridge snap and you are dangling off the side of the cliff. Luckily your bag has some gear and you climb back up in no time. You might as well take the [[Portal]] this time. ]'},\n",
       "  {'meta': {'pid': '23',\n",
       "    'name': 'continue forward',\n",
       "    'tags': '',\n",
       "    'position': '500,850',\n",
       "    'size': '100,100'},\n",
       "   'contents': 'You continue forward exploring and you eventually get lost. As a result, you aimlessly wander around for the next few days and die or starvation within the haze.'},\n",
       "  {'meta': {'pid': '24',\n",
       "    'name': 'haze',\n",
       "    'tags': '',\n",
       "    'position': '1050,575',\n",
       "    'size': '100,100'},\n",
       "   'contents': 'You decide to make a stone [[marker]] to keep track of where you have been. The haze is extremely unsettling and the ground seems [[unstable]]'},\n",
       "  {'meta': {'pid': '25',\n",
       "    'name': 'marker',\n",
       "    'tags': '',\n",
       "    'position': '1025,750',\n",
       "    'size': '100,100'},\n",
       "   'contents': 'You have been travelling for a while now and you reach into your bag for some nourishment.\\n(if: $water = 1)[You become [[marker|lost]]]\\n(if: $water = 0)[You [[marker|drink water]] and continue your journey]'},\n",
       "  {'meta': {'pid': '26',\n",
       "    'name': 'unstable',\n",
       "    'tags': '',\n",
       "    'position': '1175,700',\n",
       "    'size': '100,100'},\n",
       "   'contents': 'SUDDENLY THE GROUND GIVES WAY!?!?!\\nYou fall into the dark and hazy abyss below. You have failed to make it back home.'},\n",
       "  {'meta': {'pid': '27',\n",
       "    'name': 'lost',\n",
       "    'tags': '',\n",
       "    'position': '1225,900',\n",
       "    'size': '100,100'},\n",
       "   'contents': 'You die of dehydration and your dead body is left to become a road marker as well as a sign of danger for those in the future because your body does not decompose in this mysterious haze.'},\n",
       "  {'meta': {'pid': '28',\n",
       "    'name': 'drink water',\n",
       "    'tags': '',\n",
       "    'position': '1000,925',\n",
       "    'size': '100,100'},\n",
       "   'contents': 'You drink the water and your thirst is [[quenched]] for a little while. \\n'},\n",
       "  {'meta': {'pid': '29',\n",
       "    'name': 'act',\n",
       "    'tags': '',\n",
       "    'position': '450,1000',\n",
       "    'size': '100,100'},\n",
       "   'contents': 'You try to save yourself but your efforts are futile. The branch gives way and you plunge into the abyss.'},\n",
       "  {'meta': {'pid': '30',\n",
       "    'name': 'quenched',\n",
       "    'tags': '',\n",
       "    'position': '1050,1075',\n",
       "    'size': '100,100'},\n",
       "   'contents': 'You soon arrive at a jet black monolith. You get closer and touch the monolith. You are instantly sucked in and when you come to, you see a purple glowing [[Portal]] beside you.'},\n",
       "  {'meta': {'pid': '31',\n",
       "    'name': 'Info',\n",
       "    'tags': '',\n",
       "    'position': '0,75',\n",
       "    'size': '100,100'},\n",
       "   'contents': 'I kind of wanted this to be a dream that occurs at the moment where you are sleeping and wake up with that feeling of like falling. \\nI guess i tried to make it so the player would have a lot of trouble going back to reality(waking up) by having more dead ends.'}]}"
      ]
     },
     "execution_count": 5,
     "metadata": {},
     "output_type": "execute_result"
    }
   ],
   "source": [
    "import bs4\n",
    "\n",
    "soup = bs4.BeautifulSoup(source)\n",
    "\n",
    "{\n",
    "    'meta': soup.find('tw-storydata').attrs,\n",
    "    'contents': list( {\n",
    "        'meta': passagedata.attrs,\n",
    "        'contents': ''.join(passagedata.contents)\n",
    "    } for passagedata in soup.find_all('tw-passagedata'))\n",
    "}"
   ]
  }
 ],
 "metadata": {
  "kernelspec": {
   "display_name": "Python 3",
   "language": "python",
   "name": "python3"
  },
  "language_info": {
   "codemirror_mode": {
    "name": "ipython",
    "version": 3
   },
   "file_extension": ".py",
   "mimetype": "text/x-python",
   "name": "python",
   "nbconvert_exporter": "python",
   "pygments_lexer": "ipython3",
   "version": "3.7.8"
  }
 },
 "nbformat": 4,
 "nbformat_minor": 4
}
